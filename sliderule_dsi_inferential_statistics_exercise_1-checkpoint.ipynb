{
 "cells": [
  {
   "cell_type": "markdown",
   "metadata": {},
   "source": [
    "# What is the True Normal Human Body Temperature? \n",
    "\n",
    "#### Background\n",
    "\n",
    "The mean normal body temperature was held to be 37$^{\\circ}$C or 98.6$^{\\circ}$F for more than 120 years since it was first conceptualized and reported by Carl Wunderlich in a famous 1868 book. But, is this value statistically correct?"
   ]
  },
  {
   "cell_type": "markdown",
   "metadata": {},
   "source": [
    "<h3>Exercises</h3>\n",
    "\n",
    "<p>In this exercise, you will analyze a dataset of human body temperatures and employ the concepts of hypothesis testing, confidence intervals, and statistical significance.</p>\n",
    "\n",
    "<p>Answer the following questions <b>in this notebook below and submit to your Github account</b>.</p> \n",
    "\n",
    "<ol>\n",
    "<li>  Is the distribution of body temperatures normal? \n",
    "    <ul>\n",
    "    <li> Although this is not a requirement for the Central Limit Theorem to hold (read the introduction on Wikipedia's page about the CLT carefully: https://en.wikipedia.org/wiki/Central_limit_theorem), it gives us some peace of mind that the population may also be normally distributed if we assume that this sample is representative of the population.\n",
    "    <li> Think about the way you're going to check for the normality of the distribution. Graphical methods are usually used first, but there are also other ways: https://en.wikipedia.org/wiki/Normality_test\n",
    "    </ul>\n",
    "<li>  Is the sample size large? Are the observations independent?\n",
    "    <ul>\n",
    "    <li> Remember that this is a condition for the Central Limit Theorem, and hence the statistical tests we are using, to apply.\n",
    "    </ul>\n",
    "<li>  Is the true population mean really 98.6 degrees F?\n",
    "    <ul>\n",
    "    <li> First, try a bootstrap hypothesis test.\n",
    "    <li> Now, let's try frequentist statistical testing. Would you use a one-sample or two-sample test? Why?\n",
    "    <li> In this situation, is it appropriate to use the $t$ or $z$ statistic? \n",
    "    <li> Now try using the other test. How is the result be different? Why?\n",
    "    </ul>\n",
    "<li>  Draw a small sample of size 10 from the data and repeat both frequentist tests. \n",
    "    <ul>\n",
    "    <li> Which one is the correct one to use? \n",
    "    <li> What do you notice? What does this tell you about the difference in application of the $t$ and $z$ statistic?\n",
    "    </ul>\n",
    "<li>  At what temperature should we consider someone's temperature to be \"abnormal\"?\n",
    "    <ul>\n",
    "    <li> As in the previous example, try calculating everything using the boostrap approach, as well as the frequentist approach.\n",
    "    <li> Start by computing the margin of error and confidence interval. When calculating the confidence interval, keep in mind that you should use the appropriate formula for one draw, and not N draws.\n",
    "    </ul>\n",
    "<li>  Is there a significant difference between males and females in normal temperature?\n",
    "    <ul>\n",
    "    <li> What testing approach did you use and why?\n",
    "    <li> Write a story with your conclusion in the context of the original problem.\n",
    "    </ul>\n",
    "</ol>\n",
    "\n",
    "You can include written notes in notebook cells using Markdown: \n",
    "   - In the control panel at the top, choose Cell > Cell Type > Markdown\n",
    "   - Markdown syntax: http://nestacms.com/docs/creating-content/markdown-cheat-sheet\n",
    "\n",
    "#### Resources\n",
    "\n",
    "+ Information and data sources: http://www.amstat.org/publications/jse/datasets/normtemp.txt, http://www.amstat.org/publications/jse/jse_data_archive.htm\n",
    "+ Markdown syntax: http://nestacms.com/docs/creating-content/markdown-cheat-sheet\n",
    "\n",
    "****"
   ]
  },
  {
   "cell_type": "code",
   "execution_count": 7,
   "metadata": {},
   "outputs": [],
   "source": [
    "import pandas as pd\n",
    "import numpy as np\n",
    "import matplotlib.pyplot as plt\n",
    "import seaborn as sns\n",
    "import scipy.stats as st\n",
    "\n",
    "df = pd.read_csv('data/human_body_temperature.csv')"
   ]
  },
  {
   "cell_type": "code",
   "execution_count": 8,
   "metadata": {},
   "outputs": [
    {
     "data": {
      "text/html": [
       "<div>\n",
       "<style scoped>\n",
       "    .dataframe tbody tr th:only-of-type {\n",
       "        vertical-align: middle;\n",
       "    }\n",
       "\n",
       "    .dataframe tbody tr th {\n",
       "        vertical-align: top;\n",
       "    }\n",
       "\n",
       "    .dataframe thead th {\n",
       "        text-align: right;\n",
       "    }\n",
       "</style>\n",
       "<table border=\"1\" class=\"dataframe\">\n",
       "  <thead>\n",
       "    <tr style=\"text-align: right;\">\n",
       "      <th></th>\n",
       "      <th>temperature</th>\n",
       "      <th>gender</th>\n",
       "      <th>heart_rate</th>\n",
       "    </tr>\n",
       "  </thead>\n",
       "  <tbody>\n",
       "    <tr>\n",
       "      <th>125</th>\n",
       "      <td>96.3</td>\n",
       "      <td>M</td>\n",
       "      <td>70.0</td>\n",
       "    </tr>\n",
       "    <tr>\n",
       "      <th>126</th>\n",
       "      <td>97.7</td>\n",
       "      <td>M</td>\n",
       "      <td>77.0</td>\n",
       "    </tr>\n",
       "    <tr>\n",
       "      <th>127</th>\n",
       "      <td>98.2</td>\n",
       "      <td>F</td>\n",
       "      <td>73.0</td>\n",
       "    </tr>\n",
       "    <tr>\n",
       "      <th>128</th>\n",
       "      <td>97.9</td>\n",
       "      <td>M</td>\n",
       "      <td>72.0</td>\n",
       "    </tr>\n",
       "    <tr>\n",
       "      <th>129</th>\n",
       "      <td>98.7</td>\n",
       "      <td>F</td>\n",
       "      <td>59.0</td>\n",
       "    </tr>\n",
       "  </tbody>\n",
       "</table>\n",
       "</div>"
      ],
      "text/plain": [
       "     temperature gender  heart_rate\n",
       "125         96.3      M        70.0\n",
       "126         97.7      M        77.0\n",
       "127         98.2      F        73.0\n",
       "128         97.9      M        72.0\n",
       "129         98.7      F        59.0"
      ]
     },
     "execution_count": 8,
     "metadata": {},
     "output_type": "execute_result"
    }
   ],
   "source": [
    "# Your work here.\n",
    "#df.head()\n",
    "df.tail()"
   ]
  },
  {
   "cell_type": "code",
   "execution_count": 9,
   "metadata": {},
   "outputs": [
    {
     "data": {
      "image/png": "[encoded data removed]",
      "text/plain": [
       "<matplotlib.figure.Figure at 0x183a94d9400>"
      ]
     },
     "metadata": {},
     "output_type": "display_data"
    }
   ],
   "source": [
    "import matplotlib.pyplot as plt\n",
    "_ = plt.hist(df['temperature'], bins=50)\n",
    "_= plt.xlabel('temperatures')\n",
    "_= plt.ylabel('frequency')\n",
    "plt.show()"
   ]
  },
  {
   "cell_type": "code",
   "execution_count": 10,
   "metadata": {},
   "outputs": [],
   "source": [
    "# 1)Is the distribution of body temperatures normal?-- \n",
    "#by increaing the number of bins we decrease the binning bias, now we can see that it is indeed a normal distribution"
   ]
  },
  {
   "cell_type": "code",
   "execution_count": 16,
   "metadata": {},
   "outputs": [],
   "source": [
    "mean = np.mean(df.temperature)\n",
    "std = np.std(df.temperature)\n",
    "samples = np.random.normal(mean,std,size=10000)"
   ]
  },
  {
   "cell_type": "code",
   "execution_count": 17,
   "metadata": {},
   "outputs": [],
   "source": [
    "\n",
    "# Calculate ECDF\n",
    "\n",
    "def ecdf(data):\n",
    "    # Number of data points: n\n",
    "    n = len(data)\n",
    "    \n",
    "    # x-data for the ECDF: x\n",
    "    x = np.sort(data)\n",
    "    \n",
    "    # y-data for the ECDF: y\n",
    "    y = np.arange(1, n+1) / n\n",
    "    \n",
    "    return x,y\n",
    "\n",
    "x,y = ecdf(df.temperature)\n",
    "x_theor,y_theor = ecdf(samples)\n"
   ]
  },
  {
   "cell_type": "code",
   "execution_count": 19,
   "metadata": {},
   "outputs": [
    {
     "data": {
      "image/png": "[encoded data removed]",
      "text/plain": [
       "<matplotlib.figure.Figure at 0x183a963e748>"
      ]
     },
     "metadata": {},
     "output_type": "display_data"
    }
   ],
   "source": [
    "sns.set()\n",
    "_ = plt.plot(x_theor,y_theor)\n",
    "_ = plt.plot(x,y,marker='.',linestyle='none',color='green')\n",
    "_ = plt.xlabel('temperature (F)')\n",
    "_ = plt.ylabel('CDF')\n",
    "plt.show()"
   ]
  },
  {
   "cell_type": "code",
   "execution_count": null,
   "metadata": {},
   "outputs": [],
   "source": [
    "#With both the histogram and the CDF we can see that the distribution is relativly normal"
   ]
  },
  {
   "cell_type": "code",
   "execution_count": 20,
   "metadata": {},
   "outputs": [
    {
     "data": {
      "text/html": [
       "<div>\n",
       "<style scoped>\n",
       "    .dataframe tbody tr th:only-of-type {\n",
       "        vertical-align: middle;\n",
       "    }\n",
       "\n",
       "    .dataframe tbody tr th {\n",
       "        vertical-align: top;\n",
       "    }\n",
       "\n",
       "    .dataframe thead th {\n",
       "        text-align: right;\n",
       "    }\n",
       "</style>\n",
       "<table border=\"1\" class=\"dataframe\">\n",
       "  <thead>\n",
       "    <tr style=\"text-align: right;\">\n",
       "      <th></th>\n",
       "      <th>temperature</th>\n",
       "      <th>gender</th>\n",
       "      <th>heart_rate</th>\n",
       "    </tr>\n",
       "  </thead>\n",
       "  <tbody>\n",
       "    <tr>\n",
       "      <th>125</th>\n",
       "      <td>96.3</td>\n",
       "      <td>M</td>\n",
       "      <td>70.0</td>\n",
       "    </tr>\n",
       "    <tr>\n",
       "      <th>126</th>\n",
       "      <td>97.7</td>\n",
       "      <td>M</td>\n",
       "      <td>77.0</td>\n",
       "    </tr>\n",
       "    <tr>\n",
       "      <th>127</th>\n",
       "      <td>98.2</td>\n",
       "      <td>F</td>\n",
       "      <td>73.0</td>\n",
       "    </tr>\n",
       "    <tr>\n",
       "      <th>128</th>\n",
       "      <td>97.9</td>\n",
       "      <td>M</td>\n",
       "      <td>72.0</td>\n",
       "    </tr>\n",
       "    <tr>\n",
       "      <th>129</th>\n",
       "      <td>98.7</td>\n",
       "      <td>F</td>\n",
       "      <td>59.0</td>\n",
       "    </tr>\n",
       "  </tbody>\n",
       "</table>\n",
       "</div>"
      ],
      "text/plain": [
       "     temperature gender  heart_rate\n",
       "125         96.3      M        70.0\n",
       "126         97.7      M        77.0\n",
       "127         98.2      F        73.0\n",
       "128         97.9      M        72.0\n",
       "129         98.7      F        59.0"
      ]
     },
     "execution_count": 20,
     "metadata": {},
     "output_type": "execute_result"
    }
   ],
   "source": [
    "# 2) Is the sample size large? Are the observations independent?\n",
    "df.tail()"
   ]
  },
  {
   "cell_type": "code",
   "execution_count": null,
   "metadata": {},
   "outputs": [],
   "source": [
    "# we can see that there are 129 different samples taken-- \n",
    "# this is over the n=30 needed for a sufficient sample size\n",
    "#independance can be assumed but may not account for global differences as these were likely taken from a polulation\n",
    "#within a relatively small area\n"
   ]
  },
  {
   "cell_type": "code",
   "execution_count": 37,
   "metadata": {},
   "outputs": [
    {
     "data": {
      "text/plain": [
       "98.24923076923078"
      ]
     },
     "execution_count": 37,
     "metadata": {},
     "output_type": "execute_result"
    }
   ],
   "source": [
    "# 3) Is the true population mean really 98.6 degrees F?\n",
    "org_sample= df.temperature\n",
    "org_sample_mean= np.mean(org_sample)\n",
    "org_sample_mean\n"
   ]
  },
  {
   "cell_type": "code",
   "execution_count": 13,
   "metadata": {},
   "outputs": [
    {
     "data": {
      "text/plain": [
       "98.26201550387596"
      ]
     },
     "execution_count": 13,
     "metadata": {},
     "output_type": "execute_result"
    }
   ],
   "source": [
    "#First, try a bootstrap hypothesis test.\n",
    "bs_sample = np.random.choice(df.temperature, size=129)\n",
    "np.mean(bs_sample)"
   ]
  },
  {
   "cell_type": "code",
   "execution_count": 14,
   "metadata": {},
   "outputs": [
    {
     "data": {
      "text/plain": [
       "0.012784734645180151"
      ]
     },
     "execution_count": 14,
     "metadata": {},
     "output_type": "execute_result"
    }
   ],
   "source": [
    "diff_in_means= np.mean(bs_sample) - np.mean(org_sample)\n",
    "diff_in_means"
   ]
  },
  {
   "cell_type": "code",
   "execution_count": 15,
   "metadata": {},
   "outputs": [
    {
     "data": {
      "text/plain": [
       "0.35076923076921673"
      ]
     },
     "execution_count": 15,
     "metadata": {},
     "output_type": "execute_result"
    }
   ],
   "source": [
    "#or about 5.1%, for which the data are not signficantly differnt than eachother but\n",
    "true_pop = 98.6\n",
    "true_pop - np.mean(org_sample)"
   ]
  },
  {
   "cell_type": "raw",
   "metadata": {},
   "source": [
    "which is around 35% statically significant, definatly out of the 10% rule\n"
   ]
  },
  {
   "cell_type": "code",
   "execution_count": 28,
   "metadata": {},
   "outputs": [
    {
     "name": "stdout",
     "output_type": "stream",
     "text": [
      "t-score = -5.4548232923645195; probability = 2.4106320415561276e-07\n"
     ]
    }
   ],
   "source": [
    "#Now, let's try frequentist statistical testing. Would you use a one-sample or two-sample test? Why?\n",
    "# a one sample test becuase we are making 1 bs_sample structure against the null hypothesis\n",
    "t_score, t_prob = st.ttest_1samp(df.temperature, true_pop)\n",
    "print('t-score = ' + str(t_score) + '; probability = ' + str(t_prob))\n",
    "\n"
   ]
  },
  {
   "cell_type": "code",
   "execution_count": 26,
   "metadata": {},
   "outputs": [
    {
     "name": "stdout",
     "output_type": "stream",
     "text": [
      "z-score = 5.475925202078116; probability = 4.352315174926957e-08\n"
     ]
    }
   ],
   "source": [
    "#using the zz method instead\n",
    "z_score = (98.6 - mean)*len(df.temperature)**0.5/std\n",
    "z_prob = 2*(1-st.norm.cdf(z_score))\n",
    "print('z-score = ' + str(z_score) + '; probability = ' + str(z_prob))"
   ]
  },
  {
   "cell_type": "code",
   "execution_count": 27,
   "metadata": {},
   "outputs": [],
   "source": [
    "# We use a tt because the std samples is unknown and the best assumption is using the tt at that point. \n",
    "#The t-score of 5.45 gives a probability of 0.000000241 \n",
    "# and an alpha of 0.001, we reject the null hypothesis \n",
    "#with a z-statistic, the null hypothesis is also rejected with alpha of 0.001 since the probability is 0.0000000435 of it \n",
    "#occuring within our resampled test"
   ]
  },
  {
   "cell_type": "code",
   "execution_count": 35,
   "metadata": {},
   "outputs": [
    {
     "name": "stdout",
     "output_type": "stream",
     "text": [
      "t-score = -0.5827715174143486; probability = 0.5743560190942045\n",
      "z-score = 215.32017620768352; probability = 0.0\n"
     ]
    }
   ],
   "source": [
    "# 4)Draw a small sample of size 10 from the data and repeat both frequentist tests.\n",
    "#Which one is the correct one to use?\n",
    "#What do you notice? What does this tell you about the difference in application of the  tt  and  zz  statistic?\n",
    "# The tt would be prefered as the z-score can vary wildly with such a small sample size\n",
    "resample10 = np.random.choice(df.temperature, size=10, replace=True)\n",
    "t10_score, t10_prob = st.ttest_1samp(resample10, true_pop)\n",
    "print('t-score = ' + str(t10_score) + '; probability = ' + str(t10_prob))\n",
    "\n",
    "\n",
    "\n",
    "z10_score = (true_pop - np.mean(resample10)**.5)/np.std(resample10)\n",
    "z10_prob = 2*(1-st.norm.cdf(z10_score))\n",
    "print('z-score = ' + str(z10_score) + '; probability = ' + str(z10_prob))"
   ]
  },
  {
   "cell_type": "code",
   "execution_count": null,
   "metadata": {},
   "outputs": [],
   "source": [
    "#5)At what temperature should we consider someone's temperature to be \"abnormal\"?\n",
    "#Start by computing the margin of error and confidence interval. \n",
    "#When calculating the confidence interval, keep in mind that you should use the appropriate formula for one draw, \n",
    "#and not N draws."
   ]
  },
  {
   "cell_type": "code",
   "execution_count": 40,
   "metadata": {},
   "outputs": [
    {
     "name": "stdout",
     "output_type": "stream",
     "text": [
      "Normal temperatures range between 98.12368236669279 degrees F to 98.37477917176876 degrees F.\n"
     ]
    }
   ],
   "source": [
    "margin_of_error = 1.95996 * std / (len(df.temperature)**0.5)\n",
    "\n",
    "print('Normal temperatures range between ' + str(org_sample_mean - margin_of_error) + ' degrees F to ' + str(org_sample_mean + margin_of_error) + ' degrees F.')"
   ]
  },
  {
   "cell_type": "code",
   "execution_count": 41,
   "metadata": {},
   "outputs": [
    {
     "name": "stdout",
     "output_type": "stream",
     "text": [
      "Female mean = 98.39384615384613; Male mean = 98.1046153846154\n"
     ]
    }
   ],
   "source": [
    "# 6)Is there a significant difference between males and females in normal temperature?\n",
    "#What testing approach did you use and why?\n",
    "#Write a story with your conclusion in the context of the original problem.\n",
    "\n",
    "df_f = df.temperature[df.loc[:,'gender'] == 'F']\n",
    "f_n = len(df_f)\n",
    "f_mean = np.mean(df_f)\n",
    "f_std = np.std(df_f)\n",
    "df_m = df.temperature[df.loc[:,'gender'] == 'M']\n",
    "m_n = len(df_m)\n",
    "m_mean = np.mean(df_m)\n",
    "m_std = np.std(df_m)\n",
    "print('Female mean = ' + str(f_mean) + \"; Male mean = \" + str(m_mean))"
   ]
  },
  {
   "cell_type": "code",
   "execution_count": 44,
   "metadata": {},
   "outputs": [
    {
     "name": "stdout",
     "output_type": "stream",
     "text": [
      "2.3032202891940123\n"
     ]
    }
   ],
   "source": [
    "# 2 sample test is required as we are looking at 2 data sets now\n",
    "TS_2 = (f_mean - m_mean) / ((f_std**2)/f_n + (m_std**2)/m_n)**0.5\n",
    "print(TS_2)"
   ]
  },
  {
   "cell_type": "code",
   "execution_count": null,
   "metadata": {},
   "outputs": [],
   "source": [
    "#This test statistic of 2.303 is greater than a t-score of 1.95996 for a 95% confidence interval. \n",
    "#Therefore, the null hypothesis can be rejected, and we can conclude that there is a significant difference between \n",
    "#males and females in normal temperature.\n",
    "# As stated before the null hypothesis is rejected from the Carl Wunderlich as 98.6 and instead the \n",
    "#\" Normal temperatures range between 98.12368236669279 degrees F to 98.37477917176876 degrees F\", and 98.6 is actually quite high\n",
    "#according to this data. "
   ]
  }
 ],
 "metadata": {
  "kernelspec": {
   "display_name": "Python 3",
   "language": "python",
   "name": "python3"
  },
  "language_info": {
   "codemirror_mode": {
    "name": "ipython",
    "version": 3
   },
   "file_extension": ".py",
   "mimetype": "text/x-python",
   "name": "python",
   "nbconvert_exporter": "python",
   "pygments_lexer": "ipython3",
   "version": "3.6.4"
  }
 },
 "nbformat": 4,
 "nbformat_minor": 1
}
